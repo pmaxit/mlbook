{
 "cells": [
  {
   "cell_type": "markdown",
   "id": "14fb6220",
   "metadata": {},
   "source": [
    "# Goal"
   ]
  },
  {
   "cell_type": "markdown",
   "id": "c156270e",
   "metadata": {},
   "source": [
    "Goal of this competition is to classify argumentative elements in student writing as \"effective\", \"adequate\" or \"ineffective\" . You will create a model trained on data that is representative of the 6th-12th grade population in United States in order to minimize bias. Models derived from this competition will help pave way for students to receive feedback on their argumentative writing. With automated guidance, students can complete more assignments and ultimately become more confident, proficient writers."
   ]
  },
  {
   "cell_type": "code",
   "execution_count": 1,
   "id": "6525a873",
   "metadata": {},
   "outputs": [],
   "source": [
    "import pandas as pd\n",
    "import numpy as np\n",
    "import re\n",
    "import os\n",
    "import matplotlib.pyplot as plt\n",
    "import seaborn as sns\n",
    "\n",
    "import time\n",
    "import datetime\n",
    "from scipy import sparse\n",
    "\n",
    "\n",
    "from sklearn.feature_extraction.text import TfidfVectorizer\n",
    "from sklearn.model_selection import KFold\n",
    "from sklearn.preprocessing import OneHotEncoder,LabelEncoder\n",
    "from sklearn.metrics import log_loss\n",
    "\n",
    "from sklearn import svm\n",
    "from sklearn.linear_model import LogisticRegression\n",
    "from sklearn.ensemble import RandomForestClassifier\n",
    "from sklearn.naive_bayes import BernoulliNB,MultinomialNB\n",
    "from sklearn.model_selection import cross_val_score\n",
    "from sklearn.metrics import classification_report, confusion_matrix, accuracy_score, f1_score, precision_score,recall_score"
   ]
  },
  {
   "cell_type": "code",
   "execution_count": 2,
   "id": "223710be",
   "metadata": {},
   "outputs": [],
   "source": [
    "import nltk\n",
    "from nltk.corpus import stopwords\n",
    "from nltk.stem import SnowballStemmer\n",
    "from string import punctuation\n",
    "from nltk.stem.wordnet import WordNetLemmatizer\n",
    "from tqdm import tqdm\n",
    "\n",
    "%matplotlib inline"
   ]
  },
  {
   "cell_type": "code",
   "execution_count": 3,
   "id": "e038763c",
   "metadata": {},
   "outputs": [
    {
     "name": "stdout",
     "output_type": "stream",
     "text": [
      "Train_Shape: (36765, 5),Test_Shape: (10, 4),Sample_Shape: (10, 4)\n"
     ]
    },
    {
     "data": {
      "text/html": [
       "<div>\n",
       "<style scoped>\n",
       "    .dataframe tbody tr th:only-of-type {\n",
       "        vertical-align: middle;\n",
       "    }\n",
       "\n",
       "    .dataframe tbody tr th {\n",
       "        vertical-align: top;\n",
       "    }\n",
       "\n",
       "    .dataframe thead th {\n",
       "        text-align: right;\n",
       "    }\n",
       "</style>\n",
       "<table border=\"1\" class=\"dataframe\">\n",
       "  <thead>\n",
       "    <tr style=\"text-align: right;\">\n",
       "      <th></th>\n",
       "      <th>discourse_id</th>\n",
       "      <th>essay_id</th>\n",
       "      <th>discourse_text</th>\n",
       "      <th>discourse_type</th>\n",
       "      <th>discourse_effectiveness</th>\n",
       "    </tr>\n",
       "  </thead>\n",
       "  <tbody>\n",
       "    <tr>\n",
       "      <th>22826</th>\n",
       "      <td>f11c1bc18c1a</td>\n",
       "      <td>7203112033A1</td>\n",
       "      <td>I used to get bullied in school a lot but ever...</td>\n",
       "      <td>Evidence</td>\n",
       "      <td>Adequate</td>\n",
       "    </tr>\n",
       "    <tr>\n",
       "      <th>34272</th>\n",
       "      <td>a8f8734d87ff</td>\n",
       "      <td>4C6B05BD5A81</td>\n",
       "      <td>Staying home and doing online classes is fun b...</td>\n",
       "      <td>Counterclaim</td>\n",
       "      <td>Adequate</td>\n",
       "    </tr>\n",
       "  </tbody>\n",
       "</table>\n",
       "</div>"
      ],
      "text/plain": [
       "       discourse_id      essay_id  \\\n",
       "22826  f11c1bc18c1a  7203112033A1   \n",
       "34272  a8f8734d87ff  4C6B05BD5A81   \n",
       "\n",
       "                                          discourse_text discourse_type  \\\n",
       "22826  I used to get bullied in school a lot but ever...       Evidence   \n",
       "34272  Staying home and doing online classes is fun b...   Counterclaim   \n",
       "\n",
       "      discourse_effectiveness  \n",
       "22826                Adequate  \n",
       "34272                Adequate  "
      ]
     },
     "metadata": {},
     "output_type": "display_data"
    },
    {
     "data": {
      "text/html": [
       "<div>\n",
       "<style scoped>\n",
       "    .dataframe tbody tr th:only-of-type {\n",
       "        vertical-align: middle;\n",
       "    }\n",
       "\n",
       "    .dataframe tbody tr th {\n",
       "        vertical-align: top;\n",
       "    }\n",
       "\n",
       "    .dataframe thead th {\n",
       "        text-align: right;\n",
       "    }\n",
       "</style>\n",
       "<table border=\"1\" class=\"dataframe\">\n",
       "  <thead>\n",
       "    <tr style=\"text-align: right;\">\n",
       "      <th></th>\n",
       "      <th>discourse_id</th>\n",
       "      <th>essay_id</th>\n",
       "      <th>discourse_text</th>\n",
       "      <th>discourse_type</th>\n",
       "    </tr>\n",
       "  </thead>\n",
       "  <tbody>\n",
       "    <tr>\n",
       "      <th>7</th>\n",
       "      <td>c668ff840720</td>\n",
       "      <td>D72CB1C11673</td>\n",
       "      <td>Seeking others opinion can be very helpful and...</td>\n",
       "      <td>Claim</td>\n",
       "    </tr>\n",
       "    <tr>\n",
       "      <th>1</th>\n",
       "      <td>5a88900e7dc1</td>\n",
       "      <td>D72CB1C11673</td>\n",
       "      <td>Seeking multiple opinions can help a person ma...</td>\n",
       "      <td>Position</td>\n",
       "    </tr>\n",
       "  </tbody>\n",
       "</table>\n",
       "</div>"
      ],
      "text/plain": [
       "   discourse_id      essay_id  \\\n",
       "7  c668ff840720  D72CB1C11673   \n",
       "1  5a88900e7dc1  D72CB1C11673   \n",
       "\n",
       "                                      discourse_text discourse_type  \n",
       "7  Seeking others opinion can be very helpful and...          Claim  \n",
       "1  Seeking multiple opinions can help a person ma...       Position  "
      ]
     },
     "metadata": {},
     "output_type": "display_data"
    },
    {
     "data": {
      "text/html": [
       "<div>\n",
       "<style scoped>\n",
       "    .dataframe tbody tr th:only-of-type {\n",
       "        vertical-align: middle;\n",
       "    }\n",
       "\n",
       "    .dataframe tbody tr th {\n",
       "        vertical-align: top;\n",
       "    }\n",
       "\n",
       "    .dataframe thead th {\n",
       "        text-align: right;\n",
       "    }\n",
       "</style>\n",
       "<table border=\"1\" class=\"dataframe\">\n",
       "  <thead>\n",
       "    <tr style=\"text-align: right;\">\n",
       "      <th></th>\n",
       "      <th>discourse_id</th>\n",
       "      <th>Ineffective</th>\n",
       "      <th>Adequate</th>\n",
       "      <th>Effective</th>\n",
       "    </tr>\n",
       "  </thead>\n",
       "  <tbody>\n",
       "    <tr>\n",
       "      <th>7</th>\n",
       "      <td>c668ff840720</td>\n",
       "      <td>1.0</td>\n",
       "      <td>2.0</td>\n",
       "      <td>3.0</td>\n",
       "    </tr>\n",
       "    <tr>\n",
       "      <th>6</th>\n",
       "      <td>84812fc2ab9f</td>\n",
       "      <td>3.0</td>\n",
       "      <td>6.0</td>\n",
       "      <td>1.0</td>\n",
       "    </tr>\n",
       "  </tbody>\n",
       "</table>\n",
       "</div>"
      ],
      "text/plain": [
       "   discourse_id  Ineffective  Adequate  Effective\n",
       "7  c668ff840720          1.0       2.0        3.0\n",
       "6  84812fc2ab9f          3.0       6.0        1.0"
      ]
     },
     "metadata": {},
     "output_type": "display_data"
    }
   ],
   "source": [
    "train = pd.read_csv('/extras/Data/feedback-prize/train.csv')\n",
    "test = pd.read_csv('/extras/Data/feedback-prize/test.csv')\n",
    "sample = pd.read_csv('/extras/Data/feedback-prize/sample_submission.csv')\n",
    "print(f'Train_Shape: {train.shape},Test_Shape: {test.shape},Sample_Shape: {sample.shape}')\n",
    "display(train.sample(2))\n",
    "display(test.sample(2))\n",
    "display(sample.sample(2))"
   ]
  },
  {
   "cell_type": "code",
   "execution_count": 4,
   "id": "45724843",
   "metadata": {},
   "outputs": [
    {
     "data": {
      "text/html": [
       "<div>\n",
       "<style scoped>\n",
       "    .dataframe tbody tr th:only-of-type {\n",
       "        vertical-align: middle;\n",
       "    }\n",
       "\n",
       "    .dataframe tbody tr th {\n",
       "        vertical-align: top;\n",
       "    }\n",
       "\n",
       "    .dataframe thead th {\n",
       "        text-align: right;\n",
       "    }\n",
       "</style>\n",
       "<table border=\"1\" class=\"dataframe\">\n",
       "  <thead>\n",
       "    <tr style=\"text-align: right;\">\n",
       "      <th></th>\n",
       "      <th>discourse_id</th>\n",
       "      <th>essay_id</th>\n",
       "      <th>discourse_text</th>\n",
       "      <th>discourse_type</th>\n",
       "      <th>discourse_effectiveness</th>\n",
       "    </tr>\n",
       "  </thead>\n",
       "  <tbody>\n",
       "    <tr>\n",
       "      <th>19887</th>\n",
       "      <td>007fd8eb752d</td>\n",
       "      <td>490C2D42AFCE</td>\n",
       "      <td>Mr. senator i think we should get rid of the e...</td>\n",
       "      <td>Position</td>\n",
       "      <td>Adequate</td>\n",
       "    </tr>\n",
       "    <tr>\n",
       "      <th>19888</th>\n",
       "      <td>42aec5c4b081</td>\n",
       "      <td>490C2D42AFCE</td>\n",
       "      <td>I know im not even old enough to vote yet and ...</td>\n",
       "      <td>Evidence</td>\n",
       "      <td>Ineffective</td>\n",
       "    </tr>\n",
       "    <tr>\n",
       "      <th>19889</th>\n",
       "      <td>18b6bb666f4e</td>\n",
       "      <td>490C2D42AFCE</td>\n",
       "      <td>The electoral college should vote for us becau...</td>\n",
       "      <td>Claim</td>\n",
       "      <td>Adequate</td>\n",
       "    </tr>\n",
       "    <tr>\n",
       "      <th>19890</th>\n",
       "      <td>7f78a20fa9a9</td>\n",
       "      <td>490C2D42AFCE</td>\n",
       "      <td>They say people of age and an american citazen...</td>\n",
       "      <td>Evidence</td>\n",
       "      <td>Ineffective</td>\n",
       "    </tr>\n",
       "  </tbody>\n",
       "</table>\n",
       "</div>"
      ],
      "text/plain": [
       "       discourse_id      essay_id  \\\n",
       "19887  007fd8eb752d  490C2D42AFCE   \n",
       "19888  42aec5c4b081  490C2D42AFCE   \n",
       "19889  18b6bb666f4e  490C2D42AFCE   \n",
       "19890  7f78a20fa9a9  490C2D42AFCE   \n",
       "\n",
       "                                          discourse_text discourse_type  \\\n",
       "19887  Mr. senator i think we should get rid of the e...       Position   \n",
       "19888  I know im not even old enough to vote yet and ...       Evidence   \n",
       "19889  The electoral college should vote for us becau...          Claim   \n",
       "19890  They say people of age and an american citazen...       Evidence   \n",
       "\n",
       "      discourse_effectiveness  \n",
       "19887                Adequate  \n",
       "19888             Ineffective  \n",
       "19889                Adequate  \n",
       "19890             Ineffective  "
      ]
     },
     "execution_count": 4,
     "metadata": {},
     "output_type": "execute_result"
    }
   ],
   "source": [
    "train[train.essay_id=='490C2D42AFCE']"
   ]
  },
  {
   "cell_type": "code",
   "execution_count": 5,
   "id": "247dc872",
   "metadata": {},
   "outputs": [
    {
     "data": {
      "text/plain": [
       "'Mr. senator i think we should get rid of the electoral college and change to popular votefor the presidency. '"
      ]
     },
     "execution_count": 5,
     "metadata": {},
     "output_type": "execute_result"
    }
   ],
   "source": [
    "train[train.essay_id=='490C2D42AFCE']['discourse_text'].iloc[0]"
   ]
  },
  {
   "cell_type": "code",
   "execution_count": 6,
   "id": "adcfe87a",
   "metadata": {},
   "outputs": [
    {
     "data": {
      "text/plain": [
       "'I know im not even old enough to vote yet and your probably thinking what is this kid talking about but i dont think it is right to vote for the president of the united states canidate and really not even vote for him. '"
      ]
     },
     "execution_count": 6,
     "metadata": {},
     "output_type": "execute_result"
    }
   ],
   "source": [
    "train[train.essay_id=='490C2D42AFCE']['discourse_text'].iloc[1]"
   ]
  },
  {
   "cell_type": "code",
   "execution_count": 7,
   "id": "a3bba6c7",
   "metadata": {},
   "outputs": [
    {
     "data": {
      "text/plain": [
       "'The electoral college should vote for us because believe it or not it isnt always the right desicion sometimes. '"
      ]
     },
     "execution_count": 7,
     "metadata": {},
     "output_type": "execute_result"
    }
   ],
   "source": [
    "train[train.essay_id=='490C2D42AFCE']['discourse_text'].iloc[2]"
   ]
  },
  {
   "cell_type": "code",
   "execution_count": 8,
   "id": "973db920",
   "metadata": {},
   "outputs": [
    {
     "data": {
      "text/plain": [
       "'They say people of age and an american citazen that we can vote then let them vote for who they want they shouldnt have to vote really for an elector people want to feel like there vote matters. The peoples votes should go right to the box and count the votes and see who wins. The electoral college is of no need for the election process we the people can vote for ourselfs please just let us. And i know it isnt really in the writing format the way they want it i just want you to know my oppinoin and i know your probably going to just skim right over this but please if you have the time just please read over this and take the time to understand were im coming from.    '"
      ]
     },
     "execution_count": 8,
     "metadata": {},
     "output_type": "execute_result"
    }
   ],
   "source": [
    "train[train.essay_id=='490C2D42AFCE']['discourse_text'].iloc[3]"
   ]
  },
  {
   "cell_type": "code",
   "execution_count": 9,
   "id": "7dffe123",
   "metadata": {},
   "outputs": [
    {
     "name": "stderr",
     "output_type": "stream",
     "text": [
      "/home/puneet/Envs/venv/lib/python3.9/site-packages/seaborn/_decorators.py:36: FutureWarning: Pass the following variable as a keyword arg: x. From version 0.12, the only valid positional argument will be `data`, and passing other arguments without an explicit keyword will result in an error or misinterpretation.\n",
      "  warnings.warn(\n"
     ]
    },
    {
     "data": {
      "text/plain": [
       "<AxesSubplot:xlabel='discourse_type', ylabel='count'>"
      ]
     },
     "execution_count": 9,
     "metadata": {},
     "output_type": "execute_result"
    },
    {
     "data": {
      "image/png": "[encoded data removed]",
      "text/plain": [
       "<Figure size 1080x720 with 1 Axes>"
      ]
     },
     "metadata": {
      "needs_background": "light"
     },
     "output_type": "display_data"
    }
   ],
   "source": [
    "plt.figure(figsize=(15,10))\n",
    "sns.countplot(train['discourse_type'])"
   ]
  },
  {
   "cell_type": "code",
   "execution_count": 10,
   "id": "f13b42e1",
   "metadata": {},
   "outputs": [
    {
     "name": "stderr",
     "output_type": "stream",
     "text": [
      "/home/puneet/Envs/venv/lib/python3.9/site-packages/seaborn/_decorators.py:36: FutureWarning: Pass the following variable as a keyword arg: x. From version 0.12, the only valid positional argument will be `data`, and passing other arguments without an explicit keyword will result in an error or misinterpretation.\n",
      "  warnings.warn(\n"
     ]
    },
    {
     "data": {
      "text/plain": [
       "<AxesSubplot:xlabel='essay_id', ylabel='count'>"
      ]
     },
     "execution_count": 10,
     "metadata": {},
     "output_type": "execute_result"
    },
    {
     "data": {
      "image/png": "[encoded data removed]",
      "text/plain": [
       "<Figure size 1080x720 with 1 Axes>"
      ]
     },
     "metadata": {
      "needs_background": "light"
     },
     "output_type": "display_data"
    }
   ],
   "source": [
    "plt.figure(figsize=(15,10))\n",
    "sns.countplot(train['essay_id'])"
   ]
  },
  {
   "cell_type": "markdown",
   "id": "475c6635",
   "metadata": {},
   "source": [
    "# K Fold"
   ]
  },
  {
   "cell_type": "code",
   "execution_count": 11,
   "id": "24a357e1",
   "metadata": {},
   "outputs": [
    {
     "name": "stdout",
     "output_type": "stream",
     "text": [
      "1    7353\n",
      "4    7353\n",
      "3    7353\n",
      "0    7353\n",
      "2    7353\n",
      "Name: kfold, dtype: int64\n"
     ]
    }
   ],
   "source": [
    "#add extra one columns\n",
    "train['kfold']=-1\n",
    "#Distributing the data 5 shares\n",
    "kfold = KFold(n_splits=5, shuffle= True, random_state = 42)\n",
    "for fold, (train_indicies, valid_indicies) in enumerate(kfold.split(X=train)):\n",
    "    #print(fold,train_indicies,valid_indicies)\n",
    "    train.loc[valid_indicies,'kfold'] = fold\n",
    "\n",
    "    \n",
    "print(train.kfold.value_counts()) #total data 300000 = kfold split :5 * 60000\n",
    "\n",
    "#output of train folds data\n",
    "train.to_csv(\"trainfold_10.csv\",index=False)"
   ]
  },
  {
   "cell_type": "code",
   "execution_count": 12,
   "id": "57dcc278",
   "metadata": {},
   "outputs": [
    {
     "data": {
      "text/html": [
       "<div>\n",
       "<style scoped>\n",
       "    .dataframe tbody tr th:only-of-type {\n",
       "        vertical-align: middle;\n",
       "    }\n",
       "\n",
       "    .dataframe tbody tr th {\n",
       "        vertical-align: top;\n",
       "    }\n",
       "\n",
       "    .dataframe thead th {\n",
       "        text-align: right;\n",
       "    }\n",
       "</style>\n",
       "<table border=\"1\" class=\"dataframe\">\n",
       "  <thead>\n",
       "    <tr style=\"text-align: right;\">\n",
       "      <th></th>\n",
       "      <th>discourse_id</th>\n",
       "      <th>essay_id</th>\n",
       "      <th>discourse_text</th>\n",
       "      <th>discourse_type</th>\n",
       "      <th>discourse_effectiveness</th>\n",
       "      <th>kfold</th>\n",
       "    </tr>\n",
       "  </thead>\n",
       "  <tbody>\n",
       "    <tr>\n",
       "      <th>36763</th>\n",
       "      <td>cc184624ca8e</td>\n",
       "      <td>FFA381E58FC6</td>\n",
       "      <td>someone can use everything that many people sa...</td>\n",
       "      <td>Evidence</td>\n",
       "      <td>Ineffective</td>\n",
       "      <td>1</td>\n",
       "    </tr>\n",
       "    <tr>\n",
       "      <th>36764</th>\n",
       "      <td>c8a973681feb</td>\n",
       "      <td>FFA381E58FC6</td>\n",
       "      <td>In conclusion asking for an opinion can be ben...</td>\n",
       "      <td>Concluding Statement</td>\n",
       "      <td>Ineffective</td>\n",
       "      <td>2</td>\n",
       "    </tr>\n",
       "  </tbody>\n",
       "</table>\n",
       "</div>"
      ],
      "text/plain": [
       "       discourse_id      essay_id  \\\n",
       "36763  cc184624ca8e  FFA381E58FC6   \n",
       "36764  c8a973681feb  FFA381E58FC6   \n",
       "\n",
       "                                          discourse_text  \\\n",
       "36763  someone can use everything that many people sa...   \n",
       "36764  In conclusion asking for an opinion can be ben...   \n",
       "\n",
       "             discourse_type discourse_effectiveness  kfold  \n",
       "36763              Evidence             Ineffective      1  \n",
       "36764  Concluding Statement             Ineffective      2  "
      ]
     },
     "execution_count": 12,
     "metadata": {},
     "output_type": "execute_result"
    }
   ],
   "source": [
    "train = pd.read_csv('./trainfold_10.csv')\n",
    "train.tail(2)"
   ]
  },
  {
   "cell_type": "markdown",
   "id": "aa9c6b30",
   "metadata": {},
   "source": [
    "# Data Preprocessing"
   ]
  },
  {
   "cell_type": "code",
   "execution_count": 13,
   "id": "90f6dc65",
   "metadata": {},
   "outputs": [
    {
     "data": {
      "text/plain": [
       "'vk  is beast mode in my nlp competition '"
      ]
     },
     "execution_count": 13,
     "metadata": {},
     "output_type": "execute_result"
    }
   ],
   "source": [
    "def cleanup_text(text):\n",
    "    words = re.sub(pattern = '[^a-zA-Z]',repl = ' ', string = text)\n",
    "    words = words.lower()\n",
    "    return words\n",
    "\n",
    "cleanup_text('VK, is beast mode in my NLP competition ')"
   ]
  },
  {
   "cell_type": "code",
   "execution_count": 14,
   "id": "f0189911",
   "metadata": {},
   "outputs": [
    {
     "data": {
      "text/html": [
       "<div>\n",
       "<style scoped>\n",
       "    .dataframe tbody tr th:only-of-type {\n",
       "        vertical-align: middle;\n",
       "    }\n",
       "\n",
       "    .dataframe tbody tr th {\n",
       "        vertical-align: top;\n",
       "    }\n",
       "\n",
       "    .dataframe thead th {\n",
       "        text-align: right;\n",
       "    }\n",
       "</style>\n",
       "<table border=\"1\" class=\"dataframe\">\n",
       "  <thead>\n",
       "    <tr style=\"text-align: right;\">\n",
       "      <th></th>\n",
       "      <th>discourse_id</th>\n",
       "      <th>essay_id</th>\n",
       "      <th>discourse_text</th>\n",
       "      <th>discourse_type</th>\n",
       "      <th>discourse_effectiveness</th>\n",
       "      <th>kfold</th>\n",
       "      <th>text_preprocessed</th>\n",
       "    </tr>\n",
       "  </thead>\n",
       "  <tbody>\n",
       "    <tr>\n",
       "      <th>24290</th>\n",
       "      <td>99f2f22c2604</td>\n",
       "      <td>8521B650F8A9</td>\n",
       "      <td>Students that do not want to participate, must...</td>\n",
       "      <td>Evidence</td>\n",
       "      <td>Adequate</td>\n",
       "      <td>3</td>\n",
       "      <td>students that do not want to participate  must...</td>\n",
       "    </tr>\n",
       "    <tr>\n",
       "      <th>9640</th>\n",
       "      <td>e08e8649feb4</td>\n",
       "      <td>AE6BABB53D5E</td>\n",
       "      <td>School is difficult as it is.</td>\n",
       "      <td>Claim</td>\n",
       "      <td>Adequate</td>\n",
       "      <td>0</td>\n",
       "      <td>school is difficult as it is</td>\n",
       "    </tr>\n",
       "  </tbody>\n",
       "</table>\n",
       "</div>"
      ],
      "text/plain": [
       "       discourse_id      essay_id  \\\n",
       "24290  99f2f22c2604  8521B650F8A9   \n",
       "9640   e08e8649feb4  AE6BABB53D5E   \n",
       "\n",
       "                                          discourse_text discourse_type  \\\n",
       "24290  Students that do not want to participate, must...       Evidence   \n",
       "9640                      School is difficult as it is.           Claim   \n",
       "\n",
       "      discourse_effectiveness  kfold  \\\n",
       "24290                Adequate      3   \n",
       "9640                 Adequate      0   \n",
       "\n",
       "                                       text_preprocessed  \n",
       "24290  students that do not want to participate  must...  \n",
       "9640                      school is difficult as it is    "
      ]
     },
     "execution_count": 14,
     "metadata": {},
     "output_type": "execute_result"
    }
   ],
   "source": [
    "text_preprocessed = train['discourse_text'].apply(cleanup_text)\n",
    "text_preprocessed\n",
    "train['text_preprocessed'] = text_preprocessed\n",
    "train.sample(2)"
   ]
  },
  {
   "cell_type": "code",
   "execution_count": 15,
   "id": "d7da8a12",
   "metadata": {},
   "outputs": [
    {
     "data": {
      "text/html": [
       "<div>\n",
       "<style scoped>\n",
       "    .dataframe tbody tr th:only-of-type {\n",
       "        vertical-align: middle;\n",
       "    }\n",
       "\n",
       "    .dataframe tbody tr th {\n",
       "        vertical-align: top;\n",
       "    }\n",
       "\n",
       "    .dataframe thead th {\n",
       "        text-align: right;\n",
       "    }\n",
       "</style>\n",
       "<table border=\"1\" class=\"dataframe\">\n",
       "  <thead>\n",
       "    <tr style=\"text-align: right;\">\n",
       "      <th></th>\n",
       "      <th>discourse_id</th>\n",
       "      <th>essay_id</th>\n",
       "      <th>discourse_text</th>\n",
       "      <th>discourse_type</th>\n",
       "      <th>text_preprocessed</th>\n",
       "    </tr>\n",
       "  </thead>\n",
       "  <tbody>\n",
       "    <tr>\n",
       "      <th>0</th>\n",
       "      <td>a261b6e14276</td>\n",
       "      <td>D72CB1C11673</td>\n",
       "      <td>Making choices in life can be very difficult. ...</td>\n",
       "      <td>Lead</td>\n",
       "      <td>making choices in life can be very difficult  ...</td>\n",
       "    </tr>\n",
       "    <tr>\n",
       "      <th>1</th>\n",
       "      <td>5a88900e7dc1</td>\n",
       "      <td>D72CB1C11673</td>\n",
       "      <td>Seeking multiple opinions can help a person ma...</td>\n",
       "      <td>Position</td>\n",
       "      <td>seeking multiple opinions can help a person ma...</td>\n",
       "    </tr>\n",
       "    <tr>\n",
       "      <th>2</th>\n",
       "      <td>9790d835736b</td>\n",
       "      <td>D72CB1C11673</td>\n",
       "      <td>it can decrease stress levels</td>\n",
       "      <td>Claim</td>\n",
       "      <td>it can decrease stress levels</td>\n",
       "    </tr>\n",
       "    <tr>\n",
       "      <th>3</th>\n",
       "      <td>75ce6d68b67b</td>\n",
       "      <td>D72CB1C11673</td>\n",
       "      <td>a great chance to learn something new</td>\n",
       "      <td>Claim</td>\n",
       "      <td>a great chance to learn something new</td>\n",
       "    </tr>\n",
       "    <tr>\n",
       "      <th>4</th>\n",
       "      <td>93578d946723</td>\n",
       "      <td>D72CB1C11673</td>\n",
       "      <td>can be very helpful and beneficial.</td>\n",
       "      <td>Claim</td>\n",
       "      <td>can be very helpful and beneficial</td>\n",
       "    </tr>\n",
       "  </tbody>\n",
       "</table>\n",
       "</div>"
      ],
      "text/plain": [
       "   discourse_id      essay_id  \\\n",
       "0  a261b6e14276  D72CB1C11673   \n",
       "1  5a88900e7dc1  D72CB1C11673   \n",
       "2  9790d835736b  D72CB1C11673   \n",
       "3  75ce6d68b67b  D72CB1C11673   \n",
       "4  93578d946723  D72CB1C11673   \n",
       "\n",
       "                                      discourse_text discourse_type  \\\n",
       "0  Making choices in life can be very difficult. ...           Lead   \n",
       "1  Seeking multiple opinions can help a person ma...       Position   \n",
       "2                     it can decrease stress levels           Claim   \n",
       "3             a great chance to learn something new           Claim   \n",
       "4               can be very helpful and beneficial.           Claim   \n",
       "\n",
       "                                   text_preprocessed  \n",
       "0  making choices in life can be very difficult  ...  \n",
       "1  seeking multiple opinions can help a person ma...  \n",
       "2                     it can decrease stress levels   \n",
       "3             a great chance to learn something new   \n",
       "4               can be very helpful and beneficial    "
      ]
     },
     "execution_count": 15,
     "metadata": {},
     "output_type": "execute_result"
    }
   ],
   "source": [
    "test_preprocessed = test['discourse_text'].apply(cleanup_text)\n",
    "test_preprocessed\n",
    "test['text_preprocessed'] =  test_preprocessed\n",
    "test.head()"
   ]
  },
  {
   "cell_type": "code",
   "execution_count": 16,
   "id": "c979da4c",
   "metadata": {},
   "outputs": [
    {
     "data": {
      "text/html": [
       "<div>\n",
       "<style scoped>\n",
       "    .dataframe tbody tr th:only-of-type {\n",
       "        vertical-align: middle;\n",
       "    }\n",
       "\n",
       "    .dataframe tbody tr th {\n",
       "        vertical-align: top;\n",
       "    }\n",
       "\n",
       "    .dataframe thead th {\n",
       "        text-align: right;\n",
       "    }\n",
       "</style>\n",
       "<table border=\"1\" class=\"dataframe\">\n",
       "  <thead>\n",
       "    <tr style=\"text-align: right;\">\n",
       "      <th></th>\n",
       "      <th>discourse_id</th>\n",
       "      <th>essay_id</th>\n",
       "      <th>discourse_text</th>\n",
       "      <th>discourse_type</th>\n",
       "      <th>discourse_effectiveness</th>\n",
       "      <th>kfold</th>\n",
       "      <th>text_preprocessed</th>\n",
       "      <th>target</th>\n",
       "    </tr>\n",
       "  </thead>\n",
       "  <tbody>\n",
       "    <tr>\n",
       "      <th>16467</th>\n",
       "      <td>943adcd9d908</td>\n",
       "      <td>1D10B524E194</td>\n",
       "      <td>I think that they should be aloud for only lun...</td>\n",
       "      <td>Position</td>\n",
       "      <td>Adequate</td>\n",
       "      <td>2</td>\n",
       "      <td>i think that they should be aloud for only lun...</td>\n",
       "      <td>1</td>\n",
       "    </tr>\n",
       "    <tr>\n",
       "      <th>16577</th>\n",
       "      <td>4523e92b7b42</td>\n",
       "      <td>1EF5AB00CBCB</td>\n",
       "      <td>Its not fair Texas gets 38 electoral but New Y...</td>\n",
       "      <td>Evidence</td>\n",
       "      <td>Adequate</td>\n",
       "      <td>4</td>\n",
       "      <td>its not fair texas gets    electoral but new y...</td>\n",
       "      <td>1</td>\n",
       "    </tr>\n",
       "  </tbody>\n",
       "</table>\n",
       "</div>"
      ],
      "text/plain": [
       "       discourse_id      essay_id  \\\n",
       "16467  943adcd9d908  1D10B524E194   \n",
       "16577  4523e92b7b42  1EF5AB00CBCB   \n",
       "\n",
       "                                          discourse_text discourse_type  \\\n",
       "16467  I think that they should be aloud for only lun...       Position   \n",
       "16577  Its not fair Texas gets 38 electoral but New Y...       Evidence   \n",
       "\n",
       "      discourse_effectiveness  kfold  \\\n",
       "16467                Adequate      2   \n",
       "16577                Adequate      4   \n",
       "\n",
       "                                       text_preprocessed  target  \n",
       "16467  i think that they should be aloud for only lun...       1  \n",
       "16577  its not fair texas gets    electoral but new y...       1  "
      ]
     },
     "execution_count": 16,
     "metadata": {},
     "output_type": "execute_result"
    }
   ],
   "source": [
    "effectiveness_map = {'Ineffective' : 0, 'Adequate':1,'Effective':2}\n",
    "train['target'] = train['discourse_effectiveness'].map(effectiveness_map)\n",
    "train.sample(2)"
   ]
  },
  {
   "cell_type": "markdown",
   "id": "898f694b",
   "metadata": {},
   "source": [
    "# Training"
   ]
  },
  {
   "cell_type": "code",
   "execution_count": 17,
   "id": "d0f308df",
   "metadata": {},
   "outputs": [],
   "source": [
    "from torch.utils.data import DataLoader\n",
    "import warnings,transformers,logging,torch\n",
    "from transformers import TrainingArguments,Trainer\n",
    "from transformers import AutoModelForSequenceClassification,AutoTokenizer"
   ]
  },
  {
   "cell_type": "code",
   "execution_count": 18,
   "id": "3b40b7c3",
   "metadata": {},
   "outputs": [],
   "source": [
    "import datasets\n",
    "from datasets import load_dataset, Dataset, DatasetDict"
   ]
  },
  {
   "cell_type": "code",
   "execution_count": 19,
   "id": "02bfd8ea",
   "metadata": {},
   "outputs": [],
   "source": [
    "model_nm = 'microsoft/deberta-v3-small'"
   ]
  },
  {
   "cell_type": "code",
   "execution_count": 20,
   "id": "c0108b5e",
   "metadata": {},
   "outputs": [
    {
     "name": "stderr",
     "output_type": "stream",
     "text": [
      "Special tokens have been added in the vocabulary, make sure the associated word embeddings are fine-tuned or trained.\n"
     ]
    }
   ],
   "source": [
    "tokz = AutoTokenizer.from_pretrained(model_nm)\n"
   ]
  },
  {
   "cell_type": "code",
   "execution_count": 21,
   "id": "22be1842",
   "metadata": {},
   "outputs": [
    {
     "data": {
      "text/plain": [
       "'[SEP]'"
      ]
     },
     "execution_count": 21,
     "metadata": {},
     "output_type": "execute_result"
    }
   ],
   "source": [
    "sep = tokz.sep_token\n",
    "sep"
   ]
  },
  {
   "cell_type": "code",
   "execution_count": 22,
   "id": "6397c76d",
   "metadata": {},
   "outputs": [],
   "source": [
    "train['inputs'] = train.discourse_type + sep +train.text_preprocessed"
   ]
  },
  {
   "cell_type": "code",
   "execution_count": 23,
   "id": "cd24455e",
   "metadata": {},
   "outputs": [],
   "source": [
    "new_label = {\"discourse_effectiveness\": {\"Ineffective\": 0, \"Adequate\": 1, \"Effective\": 2}}\n",
    "train = train.replace(new_label)\n",
    "train = train.rename(columns = {\"discourse_effectiveness\": \"label\"})"
   ]
  },
  {
   "cell_type": "code",
   "execution_count": 24,
   "id": "3cb09cf1",
   "metadata": {},
   "outputs": [
    {
     "data": {
      "text/html": [
       "<div>\n",
       "<style scoped>\n",
       "    .dataframe tbody tr th:only-of-type {\n",
       "        vertical-align: middle;\n",
       "    }\n",
       "\n",
       "    .dataframe tbody tr th {\n",
       "        vertical-align: top;\n",
       "    }\n",
       "\n",
       "    .dataframe thead th {\n",
       "        text-align: right;\n",
       "    }\n",
       "</style>\n",
       "<table border=\"1\" class=\"dataframe\">\n",
       "  <thead>\n",
       "    <tr style=\"text-align: right;\">\n",
       "      <th></th>\n",
       "      <th>discourse_id</th>\n",
       "      <th>essay_id</th>\n",
       "      <th>discourse_text</th>\n",
       "      <th>discourse_type</th>\n",
       "      <th>label</th>\n",
       "      <th>kfold</th>\n",
       "      <th>text_preprocessed</th>\n",
       "      <th>target</th>\n",
       "      <th>inputs</th>\n",
       "    </tr>\n",
       "  </thead>\n",
       "  <tbody>\n",
       "    <tr>\n",
       "      <th>0</th>\n",
       "      <td>0013cc385424</td>\n",
       "      <td>007ACE74B050</td>\n",
       "      <td>Hi, i'm Isaac, i'm going to be writing about h...</td>\n",
       "      <td>Lead</td>\n",
       "      <td>1</td>\n",
       "      <td>1</td>\n",
       "      <td>hi  i m isaac  i m going to be writing about h...</td>\n",
       "      <td>1</td>\n",
       "      <td>Lead[SEP]hi  i m isaac  i m going to be writin...</td>\n",
       "    </tr>\n",
       "    <tr>\n",
       "      <th>1</th>\n",
       "      <td>9704a709b505</td>\n",
       "      <td>007ACE74B050</td>\n",
       "      <td>On my perspective, I think that the face is a ...</td>\n",
       "      <td>Position</td>\n",
       "      <td>1</td>\n",
       "      <td>4</td>\n",
       "      <td>on my perspective  i think that the face is a ...</td>\n",
       "      <td>1</td>\n",
       "      <td>Position[SEP]on my perspective  i think that t...</td>\n",
       "    </tr>\n",
       "    <tr>\n",
       "      <th>2</th>\n",
       "      <td>c22adee811b6</td>\n",
       "      <td>007ACE74B050</td>\n",
       "      <td>I think that the face is a natural landform be...</td>\n",
       "      <td>Claim</td>\n",
       "      <td>1</td>\n",
       "      <td>3</td>\n",
       "      <td>i think that the face is a natural landform be...</td>\n",
       "      <td>1</td>\n",
       "      <td>Claim[SEP]i think that the face is a natural l...</td>\n",
       "    </tr>\n",
       "    <tr>\n",
       "      <th>3</th>\n",
       "      <td>a10d361e54e4</td>\n",
       "      <td>007ACE74B050</td>\n",
       "      <td>If life was on Mars, we would know by now. The...</td>\n",
       "      <td>Evidence</td>\n",
       "      <td>1</td>\n",
       "      <td>1</td>\n",
       "      <td>if life was on mars  we would know by now  the...</td>\n",
       "      <td>1</td>\n",
       "      <td>Evidence[SEP]if life was on mars  we would kno...</td>\n",
       "    </tr>\n",
       "    <tr>\n",
       "      <th>4</th>\n",
       "      <td>db3e453ec4e2</td>\n",
       "      <td>007ACE74B050</td>\n",
       "      <td>People thought that the face was formed by ali...</td>\n",
       "      <td>Counterclaim</td>\n",
       "      <td>1</td>\n",
       "      <td>0</td>\n",
       "      <td>people thought that the face was formed by ali...</td>\n",
       "      <td>1</td>\n",
       "      <td>Counterclaim[SEP]people thought that the face ...</td>\n",
       "    </tr>\n",
       "  </tbody>\n",
       "</table>\n",
       "</div>"
      ],
      "text/plain": [
       "   discourse_id      essay_id  \\\n",
       "0  0013cc385424  007ACE74B050   \n",
       "1  9704a709b505  007ACE74B050   \n",
       "2  c22adee811b6  007ACE74B050   \n",
       "3  a10d361e54e4  007ACE74B050   \n",
       "4  db3e453ec4e2  007ACE74B050   \n",
       "\n",
       "                                      discourse_text discourse_type  label  \\\n",
       "0  Hi, i'm Isaac, i'm going to be writing about h...           Lead      1   \n",
       "1  On my perspective, I think that the face is a ...       Position      1   \n",
       "2  I think that the face is a natural landform be...          Claim      1   \n",
       "3  If life was on Mars, we would know by now. The...       Evidence      1   \n",
       "4  People thought that the face was formed by ali...   Counterclaim      1   \n",
       "\n",
       "   kfold                                  text_preprocessed  target  \\\n",
       "0      1  hi  i m isaac  i m going to be writing about h...       1   \n",
       "1      4  on my perspective  i think that the face is a ...       1   \n",
       "2      3  i think that the face is a natural landform be...       1   \n",
       "3      1  if life was on mars  we would know by now  the...       1   \n",
       "4      0  people thought that the face was formed by ali...       1   \n",
       "\n",
       "                                              inputs  \n",
       "0  Lead[SEP]hi  i m isaac  i m going to be writin...  \n",
       "1  Position[SEP]on my perspective  i think that t...  \n",
       "2  Claim[SEP]i think that the face is a natural l...  \n",
       "3  Evidence[SEP]if life was on mars  we would kno...  \n",
       "4  Counterclaim[SEP]people thought that the face ...  "
      ]
     },
     "execution_count": 24,
     "metadata": {},
     "output_type": "execute_result"
    }
   ],
   "source": [
    "train.head()"
   ]
  },
  {
   "cell_type": "markdown",
   "id": "8fac76cf",
   "metadata": {},
   "source": [
    "Now, let's create a dataset object"
   ]
  },
  {
   "cell_type": "code",
   "execution_count": 25,
   "id": "83f61cd7",
   "metadata": {},
   "outputs": [],
   "source": [
    "ds = Dataset.from_pandas(train)\n"
   ]
  },
  {
   "cell_type": "code",
   "execution_count": 26,
   "id": "15aca277",
   "metadata": {},
   "outputs": [],
   "source": [
    "def tok_func(x): return tokz(x[\"inputs\"], truncation=True)\n"
   ]
  },
  {
   "cell_type": "code",
   "execution_count": 27,
   "id": "939e144d",
   "metadata": {},
   "outputs": [
    {
     "name": "stderr",
     "output_type": "stream",
     "text": [
      "Asking to truncate to max_length but no maximum length is provided and the model has no predefined maximum length. Default to no truncation.\n"
     ]
    },
    {
     "data": {
      "text/plain": [
       "{'input_ids': [1, 8380, 2, 8595, 584, 1917, 269, 452, 6504, 584, 1917, 446, 264, 282, 898, 314, 361, 291, 812, 277, 57292, 269, 266, 1008, 1311, 9930, 289, 337, 343, 269, 432, 277, 57292, 272, 412, 278, 262, 697, 269, 314, 361, 35228, 452, 681, 266, 1355, 265, 57292, 263, 266, 812, 284, 757, 277, 262, 3568, 35228, 452, 702, 1941, 391, 337, 262, 1311, 9930, 284, 994, 293, 432, 277, 57292, 289, 337, 278, 269, 348, 266, 1008, 1311, 9930, 2], 'token_type_ids': [0, 0, 0, 0, 0, 0, 0, 0, 0, 0, 0, 0, 0, 0, 0, 0, 0, 0, 0, 0, 0, 0, 0, 0, 0, 0, 0, 0, 0, 0, 0, 0, 0, 0, 0, 0, 0, 0, 0, 0, 0, 0, 0, 0, 0, 0, 0, 0, 0, 0, 0, 0, 0, 0, 0, 0, 0, 0, 0, 0, 0, 0, 0, 0, 0, 0, 0, 0, 0, 0, 0, 0, 0, 0, 0, 0, 0, 0, 0, 0, 0], 'attention_mask': [1, 1, 1, 1, 1, 1, 1, 1, 1, 1, 1, 1, 1, 1, 1, 1, 1, 1, 1, 1, 1, 1, 1, 1, 1, 1, 1, 1, 1, 1, 1, 1, 1, 1, 1, 1, 1, 1, 1, 1, 1, 1, 1, 1, 1, 1, 1, 1, 1, 1, 1, 1, 1, 1, 1, 1, 1, 1, 1, 1, 1, 1, 1, 1, 1, 1, 1, 1, 1, 1, 1, 1, 1, 1, 1, 1, 1, 1, 1, 1, 1]}"
      ]
     },
     "execution_count": 27,
     "metadata": {},
     "output_type": "execute_result"
    }
   ],
   "source": [
    "tok_func(ds[0])"
   ]
  },
  {
   "cell_type": "code",
   "execution_count": 28,
   "id": "8af9bcdc",
   "metadata": {},
   "outputs": [
    {
     "data": {
      "text/html": [
       "<div>\n",
       "<style scoped>\n",
       "    .dataframe tbody tr th:only-of-type {\n",
       "        vertical-align: middle;\n",
       "    }\n",
       "\n",
       "    .dataframe tbody tr th {\n",
       "        vertical-align: top;\n",
       "    }\n",
       "\n",
       "    .dataframe thead th {\n",
       "        text-align: right;\n",
       "    }\n",
       "</style>\n",
       "<table border=\"1\" class=\"dataframe\">\n",
       "  <thead>\n",
       "    <tr style=\"text-align: right;\">\n",
       "      <th></th>\n",
       "      <th>discourse_id</th>\n",
       "      <th>essay_id</th>\n",
       "      <th>discourse_text</th>\n",
       "      <th>discourse_type</th>\n",
       "      <th>label</th>\n",
       "      <th>kfold</th>\n",
       "      <th>text_preprocessed</th>\n",
       "      <th>target</th>\n",
       "      <th>inputs</th>\n",
       "    </tr>\n",
       "  </thead>\n",
       "  <tbody>\n",
       "    <tr>\n",
       "      <th>0</th>\n",
       "      <td>0013cc385424</td>\n",
       "      <td>007ACE74B050</td>\n",
       "      <td>Hi, i'm Isaac, i'm going to be writing about h...</td>\n",
       "      <td>Lead</td>\n",
       "      <td>1</td>\n",
       "      <td>1</td>\n",
       "      <td>hi  i m isaac  i m going to be writing about h...</td>\n",
       "      <td>1</td>\n",
       "      <td>Lead[SEP]hi  i m isaac  i m going to be writin...</td>\n",
       "    </tr>\n",
       "    <tr>\n",
       "      <th>1</th>\n",
       "      <td>9704a709b505</td>\n",
       "      <td>007ACE74B050</td>\n",
       "      <td>On my perspective, I think that the face is a ...</td>\n",
       "      <td>Position</td>\n",
       "      <td>1</td>\n",
       "      <td>4</td>\n",
       "      <td>on my perspective  i think that the face is a ...</td>\n",
       "      <td>1</td>\n",
       "      <td>Position[SEP]on my perspective  i think that t...</td>\n",
       "    </tr>\n",
       "    <tr>\n",
       "      <th>2</th>\n",
       "      <td>c22adee811b6</td>\n",
       "      <td>007ACE74B050</td>\n",
       "      <td>I think that the face is a natural landform be...</td>\n",
       "      <td>Claim</td>\n",
       "      <td>1</td>\n",
       "      <td>3</td>\n",
       "      <td>i think that the face is a natural landform be...</td>\n",
       "      <td>1</td>\n",
       "      <td>Claim[SEP]i think that the face is a natural l...</td>\n",
       "    </tr>\n",
       "    <tr>\n",
       "      <th>3</th>\n",
       "      <td>a10d361e54e4</td>\n",
       "      <td>007ACE74B050</td>\n",
       "      <td>If life was on Mars, we would know by now. The...</td>\n",
       "      <td>Evidence</td>\n",
       "      <td>1</td>\n",
       "      <td>1</td>\n",
       "      <td>if life was on mars  we would know by now  the...</td>\n",
       "      <td>1</td>\n",
       "      <td>Evidence[SEP]if life was on mars  we would kno...</td>\n",
       "    </tr>\n",
       "    <tr>\n",
       "      <th>4</th>\n",
       "      <td>db3e453ec4e2</td>\n",
       "      <td>007ACE74B050</td>\n",
       "      <td>People thought that the face was formed by ali...</td>\n",
       "      <td>Counterclaim</td>\n",
       "      <td>1</td>\n",
       "      <td>0</td>\n",
       "      <td>people thought that the face was formed by ali...</td>\n",
       "      <td>1</td>\n",
       "      <td>Counterclaim[SEP]people thought that the face ...</td>\n",
       "    </tr>\n",
       "  </tbody>\n",
       "</table>\n",
       "</div>"
      ],
      "text/plain": [
       "   discourse_id      essay_id  \\\n",
       "0  0013cc385424  007ACE74B050   \n",
       "1  9704a709b505  007ACE74B050   \n",
       "2  c22adee811b6  007ACE74B050   \n",
       "3  a10d361e54e4  007ACE74B050   \n",
       "4  db3e453ec4e2  007ACE74B050   \n",
       "\n",
       "                                      discourse_text discourse_type  label  \\\n",
       "0  Hi, i'm Isaac, i'm going to be writing about h...           Lead      1   \n",
       "1  On my perspective, I think that the face is a ...       Position      1   \n",
       "2  I think that the face is a natural landform be...          Claim      1   \n",
       "3  If life was on Mars, we would know by now. The...       Evidence      1   \n",
       "4  People thought that the face was formed by ali...   Counterclaim      1   \n",
       "\n",
       "   kfold                                  text_preprocessed  target  \\\n",
       "0      1  hi  i m isaac  i m going to be writing about h...       1   \n",
       "1      4  on my perspective  i think that the face is a ...       1   \n",
       "2      3  i think that the face is a natural landform be...       1   \n",
       "3      1  if life was on mars  we would know by now  the...       1   \n",
       "4      0  people thought that the face was formed by ali...       1   \n",
       "\n",
       "                                              inputs  \n",
       "0  Lead[SEP]hi  i m isaac  i m going to be writin...  \n",
       "1  Position[SEP]on my perspective  i think that t...  \n",
       "2  Claim[SEP]i think that the face is a natural l...  \n",
       "3  Evidence[SEP]if life was on mars  we would kno...  \n",
       "4  Counterclaim[SEP]people thought that the face ...  "
      ]
     },
     "execution_count": 28,
     "metadata": {},
     "output_type": "execute_result"
    }
   ],
   "source": [
    "train.head()"
   ]
  },
  {
   "cell_type": "code",
   "execution_count": 29,
   "id": "a76d5dfc",
   "metadata": {},
   "outputs": [
    {
     "data": {
      "application/vnd.jupyter.widget-view+json": {
       "model_id": "062cfde47cbb4da09b5593c6b53787ab",
       "version_major": 2,
       "version_minor": 0
      },
      "text/plain": [
       "  0%|          | 0/37 [00:00<?, ?ba/s]"
      ]
     },
     "metadata": {},
     "output_type": "display_data"
    }
   ],
   "source": [
    "inps = \"text_preprocessed\",\"discourse_type\",\"kfold\",\"discourse_text\"\n",
    "tok_ds = ds.map(tok_func, batched=True, remove_columns=inps+('inputs','discourse_id','essay_id'))"
   ]
  },
  {
   "cell_type": "code",
   "execution_count": 30,
   "id": "6d49eb07",
   "metadata": {},
   "outputs": [
    {
     "data": {
      "text/plain": [
       "dict_keys(['label', 'target', 'input_ids', 'token_type_ids', 'attention_mask'])"
      ]
     },
     "execution_count": 30,
     "metadata": {},
     "output_type": "execute_result"
    }
   ],
   "source": [
    "tok_ds[0].keys()"
   ]
  },
  {
   "cell_type": "markdown",
   "id": "023c17df",
   "metadata": {},
   "source": [
    "Now, we need to create a validation set. We will split based on essay_ids."
   ]
  },
  {
   "cell_type": "code",
   "execution_count": 31,
   "id": "6f9ecf09",
   "metadata": {},
   "outputs": [
    {
     "data": {
      "text/plain": [
       "array(['B5C606F0A883', 'FA4FE7706A1A', '37A77BEAD718', '0ED28D8A5EC4',\n",
       "       'F25BA634ADDD'], dtype=object)"
      ]
     },
     "execution_count": 31,
     "metadata": {},
     "output_type": "execute_result"
    }
   ],
   "source": [
    "essay_ids = train.essay_id.unique()\n",
    "np.random.seed(42)\n",
    "np.random.shuffle(essay_ids)\n",
    "essay_ids[:5]"
   ]
  },
  {
   "cell_type": "code",
   "execution_count": 49,
   "id": "d50b132a",
   "metadata": {},
   "outputs": [],
   "source": [
    "val_prop = 0.3\n",
    "val_sz = int(len(essay_ids)*val_prop)\n",
    "val_essay_ids = essay_ids[:val_sz]"
   ]
  },
  {
   "cell_type": "code",
   "execution_count": 50,
   "id": "55f378f1",
   "metadata": {},
   "outputs": [
    {
     "data": {
      "text/plain": [
       "(10824, 25941)"
      ]
     },
     "execution_count": 50,
     "metadata": {},
     "output_type": "execute_result"
    }
   ],
   "source": [
    "is_val = np.isin(train.essay_id, val_essay_ids)\n",
    "idxs = np.arange(len(train))\n",
    "val_idxs = idxs[ is_val]\n",
    "trn_idxs = idxs[~is_val]\n",
    "len(val_idxs),len(trn_idxs)"
   ]
  },
  {
   "cell_type": "markdown",
   "id": "9f068ff2",
   "metadata": {},
   "source": [
    "We can use `select` method of `Dataset` object to create our splits"
   ]
  },
  {
   "cell_type": "code",
   "execution_count": 51,
   "id": "e79e9391",
   "metadata": {},
   "outputs": [],
   "source": [
    "dds = DatasetDict({\"train\":tok_ds.select(trn_idxs),\n",
    "             \"test\": tok_ds.select(val_idxs)})"
   ]
  },
  {
   "cell_type": "code",
   "execution_count": 52,
   "id": "6752ce92",
   "metadata": {},
   "outputs": [
    {
     "data": {
      "text/plain": [
       "Index(['discourse_id', 'essay_id', 'discourse_text', 'discourse_type', 'label',\n",
       "       'kfold', 'text_preprocessed', 'target', 'inputs'],\n",
       "      dtype='object')"
      ]
     },
     "execution_count": 52,
     "metadata": {},
     "output_type": "execute_result"
    }
   ],
   "source": [
    "train.columns"
   ]
  },
  {
   "cell_type": "code",
   "execution_count": 53,
   "id": "5e8b5d3e",
   "metadata": {},
   "outputs": [],
   "source": [
    "def get_dds(df, train=True):\n",
    "    ds = Dataset.from_pandas(df)\n",
    "    to_remove = ['discourse_id', 'essay_id', 'discourse_text', 'discourse_type',\n",
    "       'kfold', 'text_preprocessed', 'inputs']\n",
    "    tok_ds = ds.map(tok_func, batched=True, remove_columns=to_remove)\n",
    "    if train:\n",
    "        return DatasetDict({\"train\":tok_ds.select(trn_idxs), \"test\": tok_ds.select(val_idxs)})\n",
    "    else: \n",
    "        return tok_ds"
   ]
  },
  {
   "cell_type": "code",
   "execution_count": 54,
   "id": "69d0e855",
   "metadata": {},
   "outputs": [],
   "source": [
    "lr,bs = 8e-5,8\n",
    "wd,epochs = 0.01,1"
   ]
  },
  {
   "cell_type": "code",
   "execution_count": 55,
   "id": "57a291c2",
   "metadata": {},
   "outputs": [],
   "source": [
    "from sklearn.metrics import log_loss\n",
    "import torch.nn.functional as F\n",
    "def score(preds): return {'log loss': log_loss(preds.label_ids, F.softmax(torch.Tensor(preds.predictions)))}"
   ]
  },
  {
   "cell_type": "markdown",
   "id": "76840918",
   "metadata": {},
   "source": [
    "Now we can create Trainer object."
   ]
  },
  {
   "cell_type": "code",
   "execution_count": 56,
   "id": "5aaddc1c",
   "metadata": {},
   "outputs": [],
   "source": [
    "def get_trainer(dds):\n",
    "    args = TrainingArguments('outputs', learning_rate=lr, warmup_ratio=0.1, lr_scheduler_type='cosine', fp16=True,\n",
    "        evaluation_strategy=\"epoch\", per_device_train_batch_size=bs, per_device_eval_batch_size=bs*2,\n",
    "        num_train_epochs=epochs, weight_decay=wd, report_to='none')\n",
    "    model = AutoModelForSequenceClassification.from_pretrained(model_nm, num_labels=3)\n",
    "    return Trainer(model, args, train_dataset=dds['train'], eval_dataset=dds['test'],\n",
    "                   tokenizer=tokz, compute_metrics=score)"
   ]
  },
  {
   "cell_type": "code",
   "execution_count": 57,
   "id": "c6451335",
   "metadata": {},
   "outputs": [
    {
     "data": {
      "text/plain": [
       "DatasetDict({\n",
       "    train: Dataset({\n",
       "        features: ['label', 'target', 'input_ids', 'token_type_ids', 'attention_mask'],\n",
       "        num_rows: 25941\n",
       "    })\n",
       "    test: Dataset({\n",
       "        features: ['label', 'target', 'input_ids', 'token_type_ids', 'attention_mask'],\n",
       "        num_rows: 10824\n",
       "    })\n",
       "})"
      ]
     },
     "execution_count": 57,
     "metadata": {},
     "output_type": "execute_result"
    }
   ],
   "source": [
    "dds"
   ]
  },
  {
   "cell_type": "code",
   "execution_count": null,
   "id": "e5d0b20b",
   "metadata": {},
   "outputs": [
    {
     "name": "stderr",
     "output_type": "stream",
     "text": [
      "Some weights of the model checkpoint at microsoft/deberta-v3-small were not used when initializing DebertaV2ForSequenceClassification: ['mask_predictions.LayerNorm.bias', 'lm_predictions.lm_head.LayerNorm.bias', 'lm_predictions.lm_head.bias', 'lm_predictions.lm_head.LayerNorm.weight', 'mask_predictions.classifier.bias', 'mask_predictions.LayerNorm.weight', 'lm_predictions.lm_head.dense.bias', 'mask_predictions.classifier.weight', 'mask_predictions.dense.weight', 'mask_predictions.dense.bias', 'lm_predictions.lm_head.dense.weight']\n",
      "- This IS expected if you are initializing DebertaV2ForSequenceClassification from the checkpoint of a model trained on another task or with another architecture (e.g. initializing a BertForSequenceClassification model from a BertForPreTraining model).\n",
      "- This IS NOT expected if you are initializing DebertaV2ForSequenceClassification from the checkpoint of a model that you expect to be exactly identical (initializing a BertForSequenceClassification model from a BertForSequenceClassification model).\n",
      "Some weights of DebertaV2ForSequenceClassification were not initialized from the model checkpoint at microsoft/deberta-v3-small and are newly initialized: ['classifier.bias', 'pooler.dense.bias', 'pooler.dense.weight', 'classifier.weight']\n",
      "You should probably TRAIN this model on a down-stream task to be able to use it for predictions and inference.\n",
      "Using amp fp16 backend\n",
      "The following columns in the training set  don't have a corresponding argument in `DebertaV2ForSequenceClassification.forward` and have been ignored: target.\n",
      "/home/puneet/Envs/venv/lib/python3.9/site-packages/torch/nn/parallel/data_parallel.py:30: UserWarning: \n",
      "    There is an imbalance between your GPUs. You may want to exclude GPU 1 which\n",
      "    has less than 75% of the memory or cores of GPU 0. You can do so by setting\n",
      "    the device_ids argument to DataParallel, or by setting the CUDA_VISIBLE_DEVICES\n",
      "    environment variable.\n",
      "  warnings.warn(imbalance_warn.format(device_ids[min_pos], device_ids[max_pos]))\n",
      "***** Running training *****\n",
      "  Num examples = 25941\n",
      "  Num Epochs = 1\n",
      "  Instantaneous batch size per device = 8\n",
      "  Total train batch size (w. parallel, distributed & accumulation) = 16\n",
      "  Gradient Accumulation steps = 1\n",
      "  Total optimization steps = 1622\n",
      "/home/puneet/Envs/venv/lib/python3.9/site-packages/torch/nn/parallel/_functions.py:68: UserWarning: Was asked to gather along dimension 0, but all input tensors were scalars; will instead unsqueeze and return a vector.\n",
      "  warnings.warn('Was asked to gather along dimension 0, but all '\n"
     ]
    },
    {
     "data": {
      "text/html": [
       "\n",
       "    <div>\n",
       "      \n",
       "      <progress value='1623' max='1622' style='width:300px; height:20px; vertical-align: middle;'></progress>\n",
       "      [1622/1622 13:33, Epoch 1/1]\n",
       "    </div>\n",
       "    <table border=\"1\" class=\"dataframe\">\n",
       "  <thead>\n",
       "    <tr style=\"text-align: left;\">\n",
       "      <th>Epoch</th>\n",
       "      <th>Training Loss</th>\n",
       "      <th>Validation Loss</th>\n",
       "    </tr>\n",
       "  </thead>\n",
       "  <tbody>\n",
       "  </tbody>\n",
       "</table><p>\n",
       "    <div>\n",
       "      \n",
       "      <progress value='46' max='339' style='width:300px; height:20px; vertical-align: middle;'></progress>\n",
       "      [ 46/339 00:11 < 01:14, 3.93 it/s]\n",
       "    </div>\n",
       "    "
      ],
      "text/plain": [
       "<IPython.core.display.HTML object>"
      ]
     },
     "metadata": {},
     "output_type": "display_data"
    },
    {
     "name": "stderr",
     "output_type": "stream",
     "text": [
      "Saving model checkpoint to outputs/checkpoint-500\n",
      "Configuration saved in outputs/checkpoint-500/config.json\n",
      "Model weights saved in outputs/checkpoint-500/pytorch_model.bin\n",
      "tokenizer config file saved in outputs/checkpoint-500/tokenizer_config.json\n",
      "Special tokens file saved in outputs/checkpoint-500/special_tokens_map.json\n",
      "added tokens file saved in outputs/checkpoint-500/added_tokens.json\n",
      "/home/puneet/Envs/venv/lib/python3.9/site-packages/torch/nn/parallel/_functions.py:68: UserWarning: Was asked to gather along dimension 0, but all input tensors were scalars; will instead unsqueeze and return a vector.\n",
      "  warnings.warn('Was asked to gather along dimension 0, but all '\n",
      "Saving model checkpoint to outputs/checkpoint-1000\n",
      "Configuration saved in outputs/checkpoint-1000/config.json\n",
      "Model weights saved in outputs/checkpoint-1000/pytorch_model.bin\n",
      "tokenizer config file saved in outputs/checkpoint-1000/tokenizer_config.json\n",
      "Special tokens file saved in outputs/checkpoint-1000/special_tokens_map.json\n",
      "added tokens file saved in outputs/checkpoint-1000/added_tokens.json\n",
      "/home/puneet/Envs/venv/lib/python3.9/site-packages/torch/nn/parallel/_functions.py:68: UserWarning: Was asked to gather along dimension 0, but all input tensors were scalars; will instead unsqueeze and return a vector.\n",
      "  warnings.warn('Was asked to gather along dimension 0, but all '\n",
      "Saving model checkpoint to outputs/checkpoint-1500\n",
      "Configuration saved in outputs/checkpoint-1500/config.json\n",
      "Model weights saved in outputs/checkpoint-1500/pytorch_model.bin\n",
      "tokenizer config file saved in outputs/checkpoint-1500/tokenizer_config.json\n",
      "Special tokens file saved in outputs/checkpoint-1500/special_tokens_map.json\n",
      "added tokens file saved in outputs/checkpoint-1500/added_tokens.json\n",
      "/home/puneet/Envs/venv/lib/python3.9/site-packages/torch/nn/parallel/_functions.py:68: UserWarning: Was asked to gather along dimension 0, but all input tensors were scalars; will instead unsqueeze and return a vector.\n",
      "  warnings.warn('Was asked to gather along dimension 0, but all '\n",
      "The following columns in the evaluation set  don't have a corresponding argument in `DebertaV2ForSequenceClassification.forward` and have been ignored: target.\n",
      "/home/puneet/Envs/venv/lib/python3.9/site-packages/torch/nn/parallel/data_parallel.py:30: UserWarning: \n",
      "    There is an imbalance between your GPUs. You may want to exclude GPU 1 which\n",
      "    has less than 75% of the memory or cores of GPU 0. You can do so by setting\n",
      "    the device_ids argument to DataParallel, or by setting the CUDA_VISIBLE_DEVICES\n",
      "    environment variable.\n",
      "  warnings.warn(imbalance_warn.format(device_ids[min_pos], device_ids[max_pos]))\n",
      "***** Running Evaluation *****\n",
      "  Num examples = 10824\n",
      "  Batch size = 32\n"
     ]
    }
   ],
   "source": [
    "trainer = get_trainer(dds)\n",
    "trainer.train()"
   ]
  },
  {
   "cell_type": "markdown",
   "id": "abf52e60",
   "metadata": {},
   "source": [
    "# Inference and submission"
   ]
  },
  {
   "cell_type": "code",
   "execution_count": 60,
   "id": "3eb0a688",
   "metadata": {},
   "outputs": [],
   "source": [
    "test['inputs'] = test.discourse_type + sep +test.text_preprocessed"
   ]
  },
  {
   "cell_type": "code",
   "execution_count": 62,
   "id": "0ede0948",
   "metadata": {},
   "outputs": [],
   "source": [
    "test['kfold'] = 1"
   ]
  },
  {
   "cell_type": "code",
   "execution_count": 63,
   "id": "d3041ee3",
   "metadata": {},
   "outputs": [
    {
     "data": {
      "application/vnd.jupyter.widget-view+json": {
       "model_id": "a5388fdea447478c93d81a8eb877ad17",
       "version_major": 2,
       "version_minor": 0
      },
      "text/plain": [
       "  0%|          | 0/1 [00:00<?, ?ba/s]"
      ]
     },
     "metadata": {},
     "output_type": "display_data"
    }
   ],
   "source": [
    "test_ds = get_dds(test,train=False)"
   ]
  },
  {
   "cell_type": "markdown",
   "id": "a44957ed",
   "metadata": {},
   "source": [
    "Now that we have our `Dataset` object with our test dataset. Then we can simply perform `Trainer.predict` on our dataset to get the predictions."
   ]
  },
  {
   "cell_type": "code",
   "execution_count": 64,
   "id": "1e997cca",
   "metadata": {},
   "outputs": [
    {
     "name": "stderr",
     "output_type": "stream",
     "text": [
      "/home/puneet/Envs/venv/lib/python3.9/site-packages/torch/nn/parallel/data_parallel.py:30: UserWarning: \n",
      "    There is an imbalance between your GPUs. You may want to exclude GPU 1 which\n",
      "    has less than 75% of the memory or cores of GPU 0. You can do so by setting\n",
      "    the device_ids argument to DataParallel, or by setting the CUDA_VISIBLE_DEVICES\n",
      "    environment variable.\n",
      "  warnings.warn(imbalance_warn.format(device_ids[min_pos], device_ids[max_pos]))\n",
      "***** Running Prediction *****\n",
      "  Num examples = 10\n",
      "  Batch size = 32\n"
     ]
    },
    {
     "data": {
      "text/html": [
       "\n",
       "    <div>\n",
       "      \n",
       "      <progress value='1' max='1' style='width:300px; height:20px; vertical-align: middle;'></progress>\n",
       "      [1/1 : < :]\n",
       "    </div>\n",
       "    "
      ],
      "text/plain": [
       "<IPython.core.display.HTML object>"
      ]
     },
     "metadata": {},
     "output_type": "display_data"
    },
    {
     "name": "stderr",
     "output_type": "stream",
     "text": [
      "/tmp/ipykernel_449652/4215640471.py:1: UserWarning: Implicit dimension choice for softmax has been deprecated. Change the call to include dim=X as an argument.\n",
      "  preds = F.softmax(torch.Tensor(trainer.predict(test_ds).predictions)).numpy().astype(float)\n"
     ]
    },
    {
     "data": {
      "text/plain": [
       "array([[0.01277519, 0.33581078, 0.65141404],\n",
       "       [0.02656811, 0.54735756, 0.42607439],\n",
       "       [0.01276022, 0.33722383, 0.65001595],\n",
       "       [0.04685219, 0.66600323, 0.2871446 ],\n",
       "       [0.03618533, 0.55889326, 0.40492135],\n",
       "       [0.01331391, 0.28830099, 0.69838512],\n",
       "       [0.00943603, 0.238768  , 0.75179601],\n",
       "       [0.01924435, 0.43459085, 0.54616475],\n",
       "       [0.03113047, 0.37629542, 0.59257418],\n",
       "       [0.0096351 , 0.27761984, 0.71274507]])"
      ]
     },
     "execution_count": 64,
     "metadata": {},
     "output_type": "execute_result"
    }
   ],
   "source": [
    "preds = F.softmax(torch.Tensor(trainer.predict(test_ds).predictions)).numpy().astype(float)\n",
    "preds"
   ]
  },
  {
   "cell_type": "code",
   "execution_count": null,
   "id": "853aa358",
   "metadata": {},
   "outputs": [],
   "source": []
  }
 ],
 "metadata": {
  "kernelspec": {
   "display_name": "Python 3 (ipykernel)",
   "language": "python",
   "name": "python3"
  },
  "language_info": {
   "codemirror_mode": {
    "name": "ipython",
    "version": 3
   },
   "file_extension": ".py",
   "mimetype": "text/x-python",
   "name": "python",
   "nbconvert_exporter": "python",
   "pygments_lexer": "ipython3",
   "version": "3.9.5"
  }
 },
 "nbformat": 4,
 "nbformat_minor": 5
}
