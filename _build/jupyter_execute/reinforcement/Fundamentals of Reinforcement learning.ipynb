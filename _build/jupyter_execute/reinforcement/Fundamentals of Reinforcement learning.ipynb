{
 "cells": [
  {
   "cell_type": "markdown",
   "id": "5331fe27",
   "metadata": {},
   "source": [
    "# Fundamentals"
   ]
  },
  {
   "cell_type": "markdown",
   "id": "2cff7d0b",
   "metadata": {},
   "source": [
    "Reinforcement learning is one of the areas of **Machine Learning (ML)**. Unline other ML paradigms, such as supervised, and unsupervised learning, RL works in a trial and error fashion by interacting with the environment"
   ]
  },
  {
   "cell_type": "markdown",
   "id": "6a49365e",
   "metadata": {},
   "source": [
    "In this chapter, we will build a strong foundation in RL by exploring several important and fundamental concepts involved in RL."
   ]
  },
  {
   "cell_type": "markdown",
   "id": "6acdf5fd",
   "metadata": {},
   "source": [
    "## Key elements in RL"
   ]
  },
  {
   "cell_type": "markdown",
   "id": "ae2ccd58",
   "metadata": {},
   "source": [
    "### Agent"
   ]
  },
  {
   "cell_type": "markdown",
   "id": "ecbd32ad",
   "metadata": {},
   "source": [
    "An agent is a software program that learns to make intelligent decisions. We can say that an agent is a learner in RL setting. For instance, a chess player can be considered an agent since the player can be considered an agent."
   ]
  },
  {
   "cell_type": "markdown",
   "id": "04832f02",
   "metadata": {},
   "source": [
    "### Environment"
   ]
  },
  {
   "cell_type": "markdown",
   "id": "8dfbd4bb",
   "metadata": {},
   "source": [
    "Environment is the world of the agent. The agent stays within the environment. For instance, coming back to the chess game, a chessboard is called an environment since the chess player ( agent) learns to play the game of chess within the chessboard (environment)"
   ]
  },
  {
   "cell_type": "markdown",
   "id": "71803a78",
   "metadata": {},
   "source": [
    "### State and action"
   ]
  },
  {
   "cell_type": "markdown",
   "id": "bc09d29a",
   "metadata": {},
   "source": [
    "A state is a position or moment in the environment that agent can be in. We learned that agent stays within the environment and there can be many positions in the environment. Those positions are called states.\n",
    "\n",
    "Agent interacts with the environment and moves from one state to another by performing an action. In the chess game environment, the action is the move performed by the player (agent)."
   ]
  },
  {
   "cell_type": "markdown",
   "id": "70f66176",
   "metadata": {},
   "source": [
    "### Reward\n",
    "\n",
    "We learned that the agent interacts with an environment by performing an action and movces from one state to another. Based on the action, the agent recieves the award. A reward is nothing but a numerical value, say, +1 for a good action and -1 for a bad action."
   ]
  },
  {
   "cell_type": "markdown",
   "id": "0eb17cea",
   "metadata": {},
   "source": [
    "## Basic Idea of RL"
   ]
  },
  {
   "cell_type": "markdown",
   "id": "1d57c0c4",
   "metadata": {},
   "source": [
    "- just like teaching a dog to catch a ball\n",
    "- We throw a ball and every time dog catches, we give it a cookie\n",
    "- dog will figure out the best action"
   ]
  },
  {
   "cell_type": "markdown",
   "id": "bda29aea",
   "metadata": {},
   "source": [
    "## Difference between other methods"
   ]
  },
  {
   "cell_type": "code",
   "execution_count": null,
   "id": "2e4f2a60",
   "metadata": {},
   "outputs": [],
   "source": []
  }
 ],
 "metadata": {
  "kernelspec": {
   "display_name": "Python 3 (ipykernel)",
   "language": "python",
   "name": "python3"
  },
  "language_info": {
   "codemirror_mode": {
    "name": "ipython",
    "version": 3
   },
   "file_extension": ".py",
   "mimetype": "text/x-python",
   "name": "python",
   "nbconvert_exporter": "python",
   "pygments_lexer": "ipython3",
   "version": "3.9.12"
  }
 },
 "nbformat": 4,
 "nbformat_minor": 5
}