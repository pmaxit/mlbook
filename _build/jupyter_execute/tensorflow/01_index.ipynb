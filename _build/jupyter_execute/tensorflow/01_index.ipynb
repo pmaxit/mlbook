{
 "cells": [
  {
   "cell_type": "markdown",
   "id": "c8c4bd3f",
   "metadata": {},
   "source": [
    "# Introduction\n",
    "\n",
    "Tensorflow is a library from google for deep learning. It helps us to build deep learning models for multiple tasks."
   ]
  },
  {
   "cell_type": "code",
   "execution_count": null,
   "id": "a897155f",
   "metadata": {},
   "outputs": [],
   "source": []
  }
 ],
 "metadata": {
  "kernelspec": {
   "display_name": "Python 3 (ipykernel)",
   "language": "python",
   "name": "python3"
  },
  "language_info": {
   "codemirror_mode": {
    "name": "ipython",
    "version": 3
   },
   "file_extension": ".py",
   "mimetype": "text/x-python",
   "name": "python",
   "nbconvert_exporter": "python",
   "pygments_lexer": "ipython3",
   "version": "3.9.12"
  }
 },
 "nbformat": 4,
 "nbformat_minor": 5
}